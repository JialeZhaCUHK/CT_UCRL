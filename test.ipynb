{
 "cells": [
  {
   "cell_type": "code",
   "execution_count": 140,
   "metadata": {},
   "outputs": [
    {
     "name": "stdout",
     "output_type": "stream",
     "text": [
      "The autoreload extension is already loaded. To reload it, use:\n",
      "  %reload_ext autoreload\n"
     ]
    }
   ],
   "source": [
    "import numpy as np\n",
    "import mdp\n",
    "from CT_ucrl import ct_ucrl, extended_value_iteration\n",
    "import matplotlib.pyplot as plt\n",
    "%load_ext autoreload\n",
    "%autoreload 2"
   ]
  },
  {
   "cell_type": "markdown",
   "metadata": {},
   "source": [
    "# Test of CT_MDP"
   ]
  },
  {
   "cell_type": "code",
   "execution_count": 141,
   "metadata": {},
   "outputs": [],
   "source": [
    "eps = 0.2\n",
    "alpha = 0.1\n",
    "p = [\n",
    "        [[1, 0], [1 - eps, eps]],\n",
    "        [[0, 1], [eps, 1 - eps]],\n",
    "    ]\n",
    "r = [\n",
    "        [1 - alpha, 1 - alpha],\n",
    "        [1, 1],\n",
    "    ]\n",
    "holding_lambda = [[3, 2], [1, 4]]\n",
    "ct_mdp = mdp.CTMDP(2, 2, p, r, holding_lambda)\n",
    "holding_time_record = {0: {0: [], 1:[]}, 1: {0: [], 1:[]}}\n",
    "transit_record = {0: {0: np.array([0, 0]), 1:np.array([0, 0])}, \n",
    "                  1: {0: np.array([0, 0]), 1:np.array([0, 0])}}"
   ]
  },
  {
   "cell_type": "code",
   "execution_count": 142,
   "metadata": {},
   "outputs": [
    {
     "name": "stdout",
     "output_type": "stream",
     "text": [
      "0\n"
     ]
    }
   ],
   "source": [
    "print(ct_mdp.reset(0))\n",
    "for i in range(5000):\n",
    "    ac = np.random.randint(2)\n",
    "    state = ct_mdp.state\n",
    "    next_state, reward, holding_time = ct_mdp.step(ac)\n",
    "    holding_time_record[state][ac].append(holding_time)\n",
    "    transit_record[state][ac][next_state] += 1"
   ]
  },
  {
   "cell_type": "code",
   "execution_count": 143,
   "metadata": {},
   "outputs": [
    {
     "name": "stdout",
     "output_type": "stream",
     "text": [
      "0 0 3.1966328109625244\n",
      "[1. 0.]\n",
      "0 1 2.070776427313372\n",
      "[0.80988593 0.19011407]\n",
      "1 0 1.0197830113312452\n",
      "[0. 1.]\n",
      "1 1 3.8485909482431144\n",
      "[0.20798669 0.79201331]\n"
     ]
    }
   ],
   "source": [
    "for state in [0, 1]:\n",
    "    for action in [0, 1]:\n",
    "        print(state, action, 1/np.mean(holding_time_record[state][action]))\n",
    "        print(transit_record[state][action]/np.sum(transit_record[state][action]))"
   ]
  },
  {
   "cell_type": "markdown",
   "metadata": {},
   "source": [
    "# Test of CT_UCRL"
   ]
  },
  {
   "cell_type": "code",
   "execution_count": 198,
   "metadata": {},
   "outputs": [],
   "source": [
    "eps = 0.1\n",
    "alpha = 0.1\n",
    "n_states = n_actions = 2\n",
    "p = np.array([[[0, 1],[0, 1]],\n",
    "     [[1, 0],[1, 0]]])\n",
    "r = np.array([[5, 8], [-4, -12]])\n",
    "r = np.asarray(r)\n",
    "holding_lambda = np.array([[3, 5], [2, 7]])\n",
    "num_dec_epoch = 500000"
   ]
  },
  {
   "cell_type": "code",
   "execution_count": 200,
   "metadata": {},
   "outputs": [],
   "source": [
    "ct_mdp = mdp.CTMDP(n_states, n_actions, p, r, holding_lambda)\n",
    "\n",
    "transitions = ct_ucrl(ct_mdp, np.max(holding_lambda), np.min(holding_lambda), \n",
    "                      r, 0.05, 0)\n",
    "opt_tr = []\n",
    "for _ in range(num_dec_epoch):\n",
    "    (t, st, ac, next_st, reward) = transitions.__next__()\n",
    "    opt_tr.append((t, ct_mdp.timer, st, ac, next_st, reward))"
   ]
  },
  {
   "cell_type": "code",
   "execution_count": 201,
   "metadata": {},
   "outputs": [
    {
     "data": {
      "text/plain": [
       "5.706776155563075"
      ]
     },
     "execution_count": 201,
     "metadata": {},
     "output_type": "execute_result"
    }
   ],
   "source": [
    "np_tr = np.array(opt_tr)\n",
    "opt_cumsum_r = np.cumsum(np_tr[:, -1], 0)\n",
    "opt_rho = opt_cumsum_r[-1] / ct_mdp.timer\n",
    "opt_rho"
   ]
  },
  {
   "cell_type": "code",
   "execution_count": null,
   "metadata": {},
   "outputs": [],
   "source": []
  },
  {
   "cell_type": "code",
   "execution_count": 202,
   "metadata": {},
   "outputs": [],
   "source": [
    "state_val, best_ac, est_mdp = extended_value_iteration(2, 2, np.array(r), np.array(p), \n",
    "                                                   np.zeros(np.shape(p)[:2]), \n",
    "                                                   1 / np.array(holding_lambda), \n",
    "                                                   np.zeros(np.shape(holding_lambda)), \n",
    "                                                   2, 7, 0.01)"
   ]
  },
  {
   "cell_type": "code",
   "execution_count": 203,
   "metadata": {},
   "outputs": [],
   "source": [
    "rho_star = ((p[0][1] * state_val).sum() - state_val[0] + r[0, 1]) * holding_lambda[0, 1]"
   ]
  },
  {
   "cell_type": "markdown",
   "metadata": {},
   "source": [
    "# Sub-optimal Policy"
   ]
  },
  {
   "cell_type": "code",
   "execution_count": 204,
   "metadata": {},
   "outputs": [],
   "source": [
    "ct_mdp = mdp.CTMDP(n_states, n_actions, p, r, holding_lambda)\n",
    "st = ct_mdp.reset(0)\n",
    "sub_policy = np.array([0, 0])\n",
    "sub_tr = []\n",
    "for n in range(num_dec_epoch):\n",
    "    next_st, reward, holding_time = ct_mdp.step(ac)\n",
    "    # print('step', t, st, ac, next_st, reward)\n",
    "    # Update statistics\n",
    "\n",
    "    st = next_st\n",
    "    ac = sub_policy[st]\n",
    "    sub_tr.append((n, ct_mdp.timer, st, ac, next_st, reward))"
   ]
  },
  {
   "cell_type": "code",
   "execution_count": 205,
   "metadata": {},
   "outputs": [
    {
     "data": {
      "text/plain": [
       "4.507571395241639"
      ]
     },
     "execution_count": 205,
     "metadata": {},
     "output_type": "execute_result"
    }
   ],
   "source": [
    "np_sub_tr = np.array(sub_tr)\n",
    "sub_rho = np_sub_tr[:, -1].sum() / ct_mdp.timer\n",
    "sub_rho\n",
    "sub_gap = rho_star - sub_rho\n",
    "sub_gap"
   ]
  },
  {
   "cell_type": "code",
   "execution_count": 206,
   "metadata": {},
   "outputs": [
    {
     "name": "stdout",
     "output_type": "stream",
     "text": [
      "64736\n"
     ]
    }
   ],
   "source": [
    "bound_const = 34**2 * holding_lambda.max() * 4 * 2 \n",
    "print(bound_const)\n",
    "bound_const += 2 * 73**2 * (holding_lambda.max() / holding_lambda.min())**2 * 2 * 2\n",
    "bound_const += 24 * 2 * 2 / (holding_lambda.min()**2) \n",
    "bound_const *= 3"
   ]
  },
  {
   "cell_type": "code",
   "execution_count": null,
   "metadata": {},
   "outputs": [],
   "source": []
  },
  {
   "cell_type": "code",
   "execution_count": 207,
   "metadata": {},
   "outputs": [
    {
     "data": {
      "text/plain": [
       "[<matplotlib.lines.Line2D at 0x135fe2250>]"
      ]
     },
     "execution_count": 207,
     "metadata": {},
     "output_type": "execute_result"
    },
    {
     "data": {
      "image/png": "[encoded data removed]",
      "text/plain": [
       "<Figure size 432x288 with 1 Axes>"
      ]
     },
     "metadata": {
      "needs_background": "light"
     },
     "output_type": "display_data"
    }
   ],
   "source": [
    "plt.plot(np_tr[:, 1] * rho_star - opt_cumsum_r)\n",
    "plt.plot(400 * np.log(np_tr[:, 0]))"
   ]
  },
  {
   "cell_type": "code",
   "execution_count": null,
   "metadata": {},
   "outputs": [
    {
     "data": {
      "text/plain": [
       "1761006.0"
      ]
     },
     "execution_count": 102,
     "metadata": {},
     "output_type": "execute_result"
    }
   ],
   "source": [
    "bound_const "
   ]
  },
  {
   "cell_type": "code",
   "execution_count": null,
   "metadata": {},
   "outputs": [
    {
     "data": {
      "text/plain": [
       "array([8.00000e+00, 4.00000e+00, 1.20000e+01, ..., 9.98460e+05,\n",
       "       9.98468e+05, 9.98464e+05])"
      ]
     },
     "execution_count": 37,
     "metadata": {},
     "output_type": "execute_result"
    }
   ],
   "source": [
    "cumsum_mdp[:, 5]"
   ]
  },
  {
   "cell_type": "code",
   "execution_count": null,
   "metadata": {},
   "outputs": [],
   "source": []
  }
 ],
 "metadata": {
  "kernelspec": {
   "display_name": "Python 3",
   "language": "python",
   "name": "python3"
  },
  "language_info": {
   "codemirror_mode": {
    "name": "ipython",
    "version": 3
   },
   "file_extension": ".py",
   "mimetype": "text/x-python",
   "name": "python",
   "nbconvert_exporter": "python",
   "pygments_lexer": "ipython3",
   "version": "3.8.2"
  }
 },
 "nbformat": 4,
 "nbformat_minor": 2
}
