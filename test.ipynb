{
 "cells": [
  {
   "cell_type": "code",
   "execution_count": 1,
   "metadata": {},
   "outputs": [],
   "source": [
    "import numpy as np\n",
    "import mdp\n",
    "from ct_ucrl import ct_ucrl, extended_value_iteration\n",
    "import matplotlib.pyplot as plt\n",
    "%load_ext autoreload\n",
    "%autoreload 2"
   ]
  },
  {
   "cell_type": "markdown",
   "metadata": {},
   "source": [
    "# Test of CT_MDP"
   ]
  },
  {
   "cell_type": "code",
   "execution_count": 2,
   "metadata": {},
   "outputs": [],
   "source": [
    "n_states = n_actions = 2\n",
    "p = np.array([[[0, 1],[0, 1]],\n",
    "     [[1, 0],[1, 0]]])\n",
    "r = np.array([[5, 8], [-4, -12]])\n",
    "holding_lambda = np.array([[3, 5], [2, 7]])\n",
    "ct_mdp = mdp.CTMDP(2, 2, p, r, holding_lambda)\n",
    "holding_time_record = {0: {0: [], 1:[]}, 1: {0: [], 1:[]}}\n",
    "transit_record = {0: {0: np.array([0, 0]), 1:np.array([0, 0])}, \n",
    "                  1: {0: np.array([0, 0]), 1:np.array([0, 0])}}"
   ]
  },
  {
   "cell_type": "code",
   "execution_count": 3,
   "metadata": {},
   "outputs": [
    {
     "name": "stdout",
     "output_type": "stream",
     "text": [
      "0\n"
     ]
    }
   ],
   "source": [
    "print(ct_mdp.reset(0))\n",
    "for i in range(50000):\n",
    "    ac = np.random.randint(2)\n",
    "    state = ct_mdp.state\n",
    "    next_state, reward, holding_time = ct_mdp.step(ac)\n",
    "    holding_time_record[state][ac].append(holding_time)\n",
    "    transit_record[state][ac][next_state] += 1"
   ]
  },
  {
   "cell_type": "code",
   "execution_count": 4,
   "metadata": {},
   "outputs": [
    {
     "name": "stdout",
     "output_type": "stream",
     "text": [
      "0 0 3.006532347357704\n",
      "[0. 1.]\n",
      "0 1 5.0196961849632435\n",
      "[0. 1.]\n",
      "1 0 1.9658532723197186\n",
      "[1. 0.]\n",
      "1 1 7.011244840952338\n",
      "[1. 0.]\n"
     ]
    }
   ],
   "source": [
    "for state in [0, 1]:\n",
    "    for action in [0, 1]:\n",
    "        print(state, action, 1/np.mean(holding_time_record[state][action]))\n",
    "        print(transit_record[state][action]/np.sum(transit_record[state][action]))"
   ]
  },
  {
   "cell_type": "markdown",
   "metadata": {},
   "source": [
    "# Test of CT_UCRL"
   ]
  },
  {
   "cell_type": "code",
   "execution_count": 5,
   "metadata": {},
   "outputs": [],
   "source": [
    "eps = 1e-4\n",
    "n_actions = 2\n",
    "\n",
    "# Two-state example\n",
    "# n_states = 2\n",
    "# p = np.array([[[0, 1],[0, 1]],\n",
    "#      [[1, 0],[1, 0]]])\n",
    "# r = np.array([[5, 8], [-4, -12]])\n",
    "# holding_lambda = np.array([[3, 5], [2, 7]])\n",
    "\n",
    "# Three-state example\n",
    "n_states = 3\n",
    "p = np.array([[[0, 1/2, 1/2], [0, 1/3, 2/3]],\n",
    "              [[2/3, 0, 1/3], [1/4, 0, 3/4]],\n",
    "              [[1/2, 1/2, 0], [3/5, 2/5, 0]]])\n",
    "r = np.array([[5, 8], [5, 2], [4, 10]])/10\n",
    "holding_lambda = np.array([[5, 2], [2, 1], [7, 3]])"
   ]
  },
  {
   "cell_type": "markdown",
   "metadata": {},
   "source": [
    "## Optimal Value Function"
   ]
  },
  {
   "cell_type": "code",
   "execution_count": 6,
   "metadata": {},
   "outputs": [
    {
     "data": {
      "text/plain": [
       "1.9449707964090934"
      ]
     },
     "execution_count": 6,
     "metadata": {},
     "output_type": "execute_result"
    }
   ],
   "source": [
    "state_val, best_ac, best_mdp = extended_value_iteration(\n",
    "    n_states, n_actions, np.array(r), np.array(p), np.zeros(np.shape(p)[:2]), \n",
    "    1 / np.array(holding_lambda), np.zeros(np.shape(holding_lambda)), \n",
    "    holding_lambda.min(), holding_lambda.max(), eps)\n",
    "st = 2\n",
    "ac = best_ac[st]\n",
    "rho_star = ((p[st][ac] * state_val).sum() - state_val[st] + r[st, ac]) * holding_lambda[st, ac]\n",
    "rho_star"
   ]
  },
  {
   "cell_type": "markdown",
   "metadata": {},
   "source": [
    "## CT-UCRL"
   ]
  },
  {
   "cell_type": "code",
   "execution_count": 10,
   "metadata": {},
   "outputs": [
    {
     "name": "stdout",
     "output_type": "stream",
     "text": [
      "0\r"
     ]
    }
   ],
   "source": [
    "opt_tr = {}\n",
    "num_dec_epoch = 20000000\n",
    "num_sim = 1\n",
    "opt_regret = {}\n",
    "for sim in range(num_sim):\n",
    "    print(sim, end='\\r')\n",
    "    opt_tr[sim] = []\n",
    "    opt_regret[sim] = []\n",
    "    ct_mdp = mdp.CTMDP(n_states, n_actions, p, r, holding_lambda)\n",
    "\n",
    "    transitions = ct_ucrl(ct_mdp, np.max(holding_lambda), np.min(holding_lambda), \n",
    "                        r, 0.005, 0)\n",
    "    sum_reward = 0\n",
    "\n",
    "    for _ in range(num_dec_epoch):\n",
    "        (t, st, ac, next_st, holding_time, reward) = transitions.__next__()\n",
    "        opt_tr[sim].append((t, st, ac, next_st, holding_time, reward))\n",
    "        sum_reward += reward\n",
    "        opt_regret[sim].append((rho_star * ct_mdp.timer - sum_reward,\n",
    "                                rho_star * ct_mdp.timer, sum_reward))"
   ]
  },
  {
   "cell_type": "code",
   "execution_count": null,
   "metadata": {},
   "outputs": [
    {
     "data": {
      "text/plain": [
       "array([[[1.01617135e+00, 1.81617135e+00, 8.00000000e-01],\n",
       "        [1.23244653e-01, 1.92324465e+00, 1.80000000e+00],\n",
       "        [4.97448984e-01, 3.09744898e+00, 2.60000000e+00],\n",
       "        ...,\n",
       "        [7.35189470e+04, 2.76723965e+06, 2.69372070e+06],\n",
       "        [7.35185083e+04, 2.76723971e+06, 2.69372120e+06],\n",
       "        [7.35188914e+04, 2.76724059e+06, 2.69372170e+06]]])"
      ]
     },
     "execution_count": 8,
     "metadata": {},
     "output_type": "execute_result"
    }
   ],
   "source": [
    "np_opt_regret = np.array([opt_regret[sim] for sim in range(num_sim)])\n",
    "np_opt_regret"
   ]
  },
  {
   "cell_type": "code",
   "execution_count": null,
   "metadata": {},
   "outputs": [
    {
     "data": {
      "text/plain": [
       "Text(0, 0.5, 'Regret')"
      ]
     },
     "execution_count": 9,
     "metadata": {},
     "output_type": "execute_result"
    },
    {
     "data": {
      "image/png": "[encoded data removed]",
      "text/plain": [
       "<Figure size 432x288 with 1 Axes>"
      ]
     },
     "metadata": {
      "needs_background": "light"
     },
     "output_type": "display_data"
    }
   ],
   "source": [
    "log_factor = 8000\n",
    "label_gap = 5\n",
    "xlabel = [k * label_gap for k in range(1, num_dec_epoch // label_gap + 1)]\n",
    "plt.plot(xlabel, np_opt_regret.mean(axis=0)[::label_gap, 0], \n",
    "         label = 'CT-UCRL')\n",
    "plt.plot(xlabel, log_factor * np.log(xlabel), \n",
    "         label=r'${}\\log(N)$'.format(log_factor))\n",
    "plt.ticklabel_format(style='sci', axis='x', scilimits=(0,0))\n",
    "plt.legend()\n",
    "plt.xlabel(r'Decision Epoch $N$')\n",
    "plt.ylabel('Regret')\n",
    "# plt.savefig('../../fig/CT-UCRL/EX2/one_path1', bbox_inches='tight', dpi=300)"
   ]
  },
  {
   "cell_type": "code",
   "execution_count": 138,
   "metadata": {},
   "outputs": [
    {
     "data": {
      "image/png": "[encoded data removed]",
      "text/plain": [
       "<Figure size 432x288 with 1 Axes>"
      ]
     },
     "metadata": {
      "needs_background": "light"
     },
     "output_type": "display_data"
    }
   ],
   "source": [
    "label_gap = 5\n",
    "xlabel = [k * label_gap for k in range(1, num_dec_epoch // label_gap + 1)]\n",
    "plt.plot(xlabel, np_opt_regret.mean(axis=0)[::label_gap, 1], \n",
    "         label = r'$\\rho^* \\cdot S_N$')\n",
    "plt.plot(xlabel, np_opt_regret.mean(axis=0)[::label_gap, 2], \n",
    "         label = r'$\\sum_{n=0}^{N - 1} r_n(s,a)$', linestyle='--')\n",
    "plt.ticklabel_format(style='sci', axis='x', scilimits=(0,0))\n",
    "plt.legend()\n",
    "plt.xlabel(r'Decision Epoch $N$')\n",
    "plt.ylabel('Total Reward')\n",
    "# plt.savefig('../../fig/CT-UCRL/EX2/total_reward1', bbox_inches='tight', dpi=300)"
   ]
  },
  {
   "cell_type": "code",
   "execution_count": null,
   "metadata": {},
   "outputs": [],
   "source": []
  },
  {
   "cell_type": "code",
   "execution_count": null,
   "metadata": {},
   "outputs": [],
   "source": []
  },
  {
   "cell_type": "markdown",
   "metadata": {},
   "source": [
    "# Sub-optimal Policy"
   ]
  },
  {
   "cell_type": "code",
   "execution_count": 108,
   "metadata": {},
   "outputs": [],
   "source": [
    "num_dec_epoch = 2000000\n",
    "ct_mdp = mdp.CTMDP(n_states, n_actions, p, r, holding_lambda)\n",
    "st = ct_mdp.reset(0)\n",
    "sub_policy = np.array([0, 0])\n",
    "sub_tr = []\n",
    "sub_regret = []\n",
    "sum_reward = 0\n",
    "for n in range(num_dec_epoch):\n",
    "    next_st, reward, holding_time = ct_mdp.step(ac)\n",
    "    # print('step', t, st, ac, next_st, reward)\n",
    "    # Update statistics\n",
    "\n",
    "    st = next_st\n",
    "    ac = sub_policy[st]\n",
    "    sub_tr.append((n, ct_mdp.timer, st, ac, next_st, reward))\n",
    "    sum_reward += reward\n",
    "    sub_regret.append((rho_star * ct_mdp.timer - sum_reward, \n",
    "                       rho_star * ct_mdp.timer, sum_reward))"
   ]
  },
  {
   "cell_type": "code",
   "execution_count": 111,
   "metadata": {},
   "outputs": [
    {
     "data": {
      "image/png": "[encoded data removed]",
      "text/plain": [
       "<Figure size 432x288 with 1 Axes>"
      ]
     },
     "metadata": {
      "needs_background": "light"
     },
     "output_type": "display_data"
    },
    {
     "data": {
      "image/png": "[encoded data removed]",
      "text/plain": [
       "<Figure size 432x288 with 1 Axes>"
      ]
     },
     "metadata": {
      "needs_background": "light"
     },
     "output_type": "display_data"
    }
   ],
   "source": [
    "np_sub_regret = np.array(sub_regret)\n",
    "plt.plot(np_sub_regret[:, 0], label='Policy=[0, 0] (Optimal Policy=[1, 0])')\n",
    "plt.legend()\n",
    "plt.xlabel(r'Decision Epoch $N$')\n",
    "plt.ylabel('Regret')\n",
    "plt.show()\n",
    "\n",
    "plt.plot(np_sub_regret[:, 1], label = r'$\\rho^* \\cdot S_N$', marker='o')\n",
    "plt.plot(np_sub_regret[:, 2], label = r'$\\sum_{n=0}^{N - 1} r_n(s,a)$')\n",
    "plt.xlabel(r'Decision Epoch $N$')\n",
    "plt.ylabel('Total Reward')\n",
    "plt.legend()\n",
    "plt.show()"
   ]
  },
  {
   "cell_type": "code",
   "execution_count": null,
   "metadata": {},
   "outputs": [],
   "source": []
  },
  {
   "cell_type": "code",
   "execution_count": 89,
   "metadata": {},
   "outputs": [
    {
     "data": {
      "text/plain": [
       "-0.0037547802613753234"
      ]
     },
     "execution_count": 89,
     "metadata": {},
     "output_type": "execute_result"
    }
   ],
   "source": [
    "np_sub_tr = np.array(sub_tr)\n",
    "sub_rho = np_sub_tr[:, -1].sum() / ct_mdp.timer\n",
    "sub_rho\n",
    "sub_gap = rho_star - sub_rho\n",
    "sub_gap"
   ]
  },
  {
   "cell_type": "code",
   "execution_count": 52,
   "metadata": {},
   "outputs": [
    {
     "name": "stdout",
     "output_type": "stream",
     "text": [
      "64736\n",
      "586978.0\n",
      "587002.0\n",
      "1761006.0\n"
     ]
    }
   ],
   "source": [
    "bound_const = 34**2 * holding_lambda.max() * 4 * 2 \n",
    "print(bound_const)\n",
    "bound_const += 2 * 73**2 * (holding_lambda.max() / holding_lambda.min())**2 * 2 * 2\n",
    "print(bound_const)\n",
    "bound_const += 24 * 2 * 2 / (holding_lambda.min()**2)\n",
    "print(bound_const) \n",
    "bound_const *= 3\n",
    "print(bound_const)"
   ]
  },
  {
   "cell_type": "code",
   "execution_count": null,
   "metadata": {},
   "outputs": [],
   "source": []
  }
 ],
 "metadata": {
  "kernelspec": {
   "display_name": "Python 3",
   "language": "python",
   "name": "python3"
  },
  "language_info": {
   "codemirror_mode": {
    "name": "ipython",
    "version": 3
   },
   "file_extension": ".py",
   "mimetype": "text/x-python",
   "name": "python",
   "nbconvert_exporter": "python",
   "pygments_lexer": "ipython3",
   "version": "3.8.2"
  }
 },
 "nbformat": 4,
 "nbformat_minor": 2
}
