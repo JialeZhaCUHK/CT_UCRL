{
 "cells": [
  {
   "cell_type": "code",
   "execution_count": 6,
   "metadata": {},
   "outputs": [],
   "source": [
    "import numpy as np\n",
    "import mdp"
   ]
  },
  {
   "cell_type": "code",
   "execution_count": 12,
   "metadata": {},
   "outputs": [],
   "source": [
    "eps = 0.2\n",
    "alpha = 0.1\n",
    "p = [\n",
    "        [[1, 0], [1 - eps, eps]],\n",
    "        [[0, 1], [eps, 1 - eps]],\n",
    "    ]\n",
    "r = [\n",
    "        [1 - alpha, 1 - alpha],\n",
    "        [1, 1],\n",
    "    ]\n",
    "holding_lambda = [[3, 2], [1, 4]]\n",
    "ct_mdp = mdp.CTMDP(2, 2, p, r, holding_lambda)\n",
    "holding_time_record = {0: {0: [], 1:[]}, 1: {0: [], 1:[]}}\n",
    "transit_record = {0: {0: np.array([0, 0]), 1:np.array([0, 0])}, \n",
    "                  1: {0: np.array([0, 0]), 1:np.array([0, 0])}}"
   ]
  },
  {
   "cell_type": "code",
   "execution_count": 30,
   "metadata": {},
   "outputs": [
    {
     "name": "stdout",
     "output_type": "stream",
     "text": [
      "0\n"
     ]
    }
   ],
   "source": [
    "print(ct_mdp.reset(0))\n",
    "for i in range(5000):\n",
    "    ac = np.random.randint(2)\n",
    "    state = ct_mdp.state\n",
    "    next_state, reward, holding_time = ct_mdp.step(ac)\n",
    "    holding_time_record[state][ac].append(holding_time)\n",
    "    transit_record[state][ac][next_state] += 1"
   ]
  },
  {
   "cell_type": "code",
   "execution_count": 31,
   "metadata": {},
   "outputs": [
    {
     "name": "stdout",
     "output_type": "stream",
     "text": [
      "0 0 2.906929651552244\n",
      "[1. 0.]\n",
      "0 1 1.9378612564962485\n",
      "[0.77829849 0.22170151]\n",
      "1 0 0.9905456388199481\n",
      "[0. 1.]\n",
      "1 1 3.939497912891761\n",
      "[0.19921875 0.80078125]\n"
     ]
    }
   ],
   "source": [
    "for state in [0, 1]:\n",
    "    for action in [0, 1]:\n",
    "        print(state, action, 1/np.mean(holding_time_record[state][action]))\n",
    "        print(transit_record[state][action]/np.sum(transit_record[state][action]))"
   ]
  },
  {
   "cell_type": "code",
   "execution_count": null,
   "metadata": {},
   "outputs": [],
   "source": []
  }
 ],
 "metadata": {
  "kernelspec": {
   "display_name": "Python 3",
   "language": "python",
   "name": "python3"
  },
  "language_info": {
   "codemirror_mode": {
    "name": "ipython",
    "version": 3
   },
   "file_extension": ".py",
   "mimetype": "text/x-python",
   "name": "python",
   "nbconvert_exporter": "python",
   "pygments_lexer": "ipython3",
   "version": "3.8.2"
  }
 },
 "nbformat": 4,
 "nbformat_minor": 2
}
